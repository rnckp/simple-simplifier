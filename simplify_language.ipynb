{
 "cells": [
  {
   "cell_type": "code",
   "execution_count": 1,
   "metadata": {},
   "outputs": [],
   "source": [
    "from simplifier.core import simplify_text\n",
    "import requests"
   ]
  },
  {
   "cell_type": "code",
   "execution_count": 2,
   "metadata": {},
   "outputs": [],
   "source": [
    "test_text = \"\"\"Als Vernehmlassungsverfahren wird diejenige Phase innerhalb des Vorverfahrens der Gesetzgebung bezeichnet, in der Vorhaben des Bundes von erheblicher politischer, finanzieller, wirtschaftlicher, ökologischer, sozialer oder kultureller Tragweite auf ihre sachliche Richtigkeit, Vollzugstauglichkeit und Akzeptanz hin geprüft werden. \n",
    "\n",
    "Die Vorlage wird zu diesem Zweck den Kantonen, den in der Bundesversammlung vertretenen Parteien, den Dachverbänden der Gemeinden, Städte und der Berggebiete, den Dachverbänden der Wirtschaft sowie weiteren, im Einzelfall interessierten Kreisen unterbreitet.\"\"\""
   ]
  },
  {
   "cell_type": "markdown",
   "metadata": {},
   "source": [
    "# Test function"
   ]
  },
  {
   "cell_type": "code",
   "execution_count": 3,
   "metadata": {},
   "outputs": [
    {
     "name": "stdout",
     "output_type": "stream",
     "text": [
      "Das Vernehmlassungsverfahren ist ein Teil vom Gesetzmachen. \n",
      "\n",
      "In dieser Phase prüft der Bund wichtige Pläne. Diese Pläne können politisch, finanziell, wirtschaftlich, ökologisch, sozial oder kulturell wichtig sein. \n",
      "\n",
      "Der Bund schaut, ob die Pläne richtig sind. Er prüft, ob man sie umsetzen kann und ob die Menschen sie gut finden. \n",
      "\n",
      "Der Bund gibt die Pläne den Kantonen, den Parteien im Parlament und den grossen Verbänden. Dazu gehören die Gemeinden, Städte und Berggebiete. Auch die grossen Wirtschaftsverbände bekommen die Pläne. \n",
      "\n",
      "Manchmal bekommen auch andere Gruppen die Pläne. Diese Gruppen sind dann besonders interessiert.\n"
     ]
    }
   ],
   "source": [
    "result = simplify_text(test_text)\n",
    "print(result)"
   ]
  },
  {
   "cell_type": "code",
   "execution_count": 4,
   "metadata": {},
   "outputs": [
    {
     "name": "stdout",
     "output_type": "stream",
     "text": [
      "Das Vernehmlassungsverfahren ist ein Teil der Gesetzgebung.\n",
      "\n",
      "Im Vernehmlassungsverfahren prüft der Bund neue Gesetze.\n",
      "\n",
      "Der Bund prüft, ob die neuen Gesetze richtig sind.\n",
      "\n",
      "Der Bund prüft, ob die neuen Gesetze umsetzbar sind.\n",
      "\n",
      "Der Bund prüft, ob die neuen Gesetze akzeptiert werden.\n",
      "\n",
      "Der Bund fragt dazu viele Gruppen nach ihrer Meinung.\n",
      "\n",
      "Der Bund fragt die Kantone.\n",
      "\n",
      "Der Bund fragt die Parteien im Parlament.\n",
      "\n",
      "Der Bund fragt die Dach-Verbände von Städten und Gemeinden.\n",
      "\n",
      "Der Bund fragt die Dach-Verbände der Wirtschaft.\n",
      "\n",
      "Der Bund fragt weitere interessierte Gruppen.\n",
      "\n",
      "Diese Gruppen geben ihre Meinung zu den neuen Gesetzen.\n"
     ]
    }
   ],
   "source": [
    "result = simplify_text(test_text, leichte_sprache=True)\n",
    "print(result)"
   ]
  },
  {
   "cell_type": "markdown",
   "metadata": {},
   "source": [
    "# Test FastAPI application"
   ]
  },
  {
   "cell_type": "code",
   "execution_count": 5,
   "metadata": {},
   "outputs": [
    {
     "name": "stdout",
     "output_type": "stream",
     "text": [
      "Das Vernehmlassungsverfahren ist ein wichtiger Teil der Gesetzgebung. \n",
      "\n",
      "In dieser Phase prüft man neue Ideen des Bundes. Diese Ideen sind oft politisch, finanziell, wirtschaftlich, ökologisch, sozial oder kulturell wichtig. \n",
      "\n",
      "Man schaut, ob die Ideen richtig sind. Man prüft auch, ob man sie gut umsetzen kann und ob die Menschen sie gut finden. \n",
      "\n",
      "Die Vorschläge gehen an verschiedene Gruppen. Dazu gehören die Kantone, die Parteien im Parlament und die grossen Verbände der Gemeinden und Städte. Auch die Verbände der Wirtschaft und andere interessierte Gruppen bekommen die Vorschläge.\n"
     ]
    }
   ],
   "source": [
    "response = requests.post(\n",
    "    \"http://localhost:8000/\", json={\"text\": test_text, \"leichte_sprache\": False}\n",
    ")\n",
    "print(response.json()[\"simplified_text\"])"
   ]
  },
  {
   "cell_type": "code",
   "execution_count": 6,
   "metadata": {},
   "outputs": [
    {
     "name": "stdout",
     "output_type": "stream",
     "text": [
      "Was ist ein Vernehmlassungsverfahren?\n",
      "\n",
      "Ein Vernehmlassungsverfahren ist ein Teil vom Vorverfahren. \n",
      "\n",
      "Das Vorverfahren gehört zur Gesetzgebung.\n",
      "\n",
      "Warum gibt es ein Vernehmlassungsverfahren?\n",
      "\n",
      "Der Bund will prüfen: \n",
      "\n",
      "- Ist ein Vorhaben richtig?\n",
      "- Kann man das Vorhaben umsetzen?\n",
      "- Finden die Menschen das Vorhaben gut?\n",
      "\n",
      "Wer prüft das Vorhaben?\n",
      "\n",
      "Der Bund gibt die Vorlage an viele Gruppen. \n",
      "\n",
      "Diese Gruppen sind:\n",
      "\n",
      "- die Kantone\n",
      "- die Parteien im Parlament\n",
      "- die Dach-Verbände von Gemeinden und Städten\n",
      "- die Dach-Verbände der Wirtschaft\n",
      "- andere interessierte Gruppen\n"
     ]
    }
   ],
   "source": [
    "response = requests.post(\n",
    "    \"http://localhost:8000/\", json={\"text\": test_text, \"leichte_sprache\": True}\n",
    ")\n",
    "print(response.json()[\"simplified_text\"])"
   ]
  }
 ],
 "metadata": {
  "kernelspec": {
   "display_name": "simplifier",
   "language": "python",
   "name": "python3"
  },
  "language_info": {
   "codemirror_mode": {
    "name": "ipython",
    "version": 3
   },
   "file_extension": ".py",
   "mimetype": "text/x-python",
   "name": "python",
   "nbconvert_exporter": "python",
   "pygments_lexer": "ipython3",
   "version": "3.9.20"
  }
 },
 "nbformat": 4,
 "nbformat_minor": 2
}
